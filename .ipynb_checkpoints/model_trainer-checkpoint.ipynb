{
 "cells": [
  {
   "cell_type": "code",
   "execution_count": 1,
   "id": "76d87da5-245f-40d4-849e-b19057e81b49",
   "metadata": {},
   "outputs": [],
   "source": [
    "import matplotlib.pyplot as plt\n",
    "import numpy as np\n",
    "import os\n",
    "import pickle\n",
    "import tensorflow as tf\n",
    "from tensorflow import keras\n",
    "from tensorflow.keras import layers\n",
    "from tensorflow.python.keras.layers import Dense, Flatten, Conv2D, MaxPooling2D\n",
    "from tensorflow.keras.models import Sequential\n",
    "from tensorflow.keras.callbacks import ModelCheckpoint\n",
    "from tensorflow.keras.callbacks import EarlyStopping"
   ]
  },
  {
   "cell_type": "code",
   "execution_count": 2,
   "id": "234d6238-fc29-44f8-9f50-89c3dfb7aede",
   "metadata": {},
   "outputs": [],
   "source": [
    "train_dir = '/kaggle/input/deepfake-and-real-images/Dataset/Train'\n",
    "test_dir = '/kaggle/input/deepfake-and-real-images/Dataset/Test'\n",
    "validation_dir = '/kaggle/input/deepfake-and-real-images/Dataset/Validation'"
   ]
  },
  {
   "cell_type": "code",
   "execution_count": null,
   "id": "13c0cb49-2ac8-47e9-9b6c-aa5a4a92fcce",
   "metadata": {},
   "outputs": [],
   "source": [
    "def check_dist(dir):\n",
    "    print(f\"{dir.split('/')[-1]} dataset\")\n",
    "    if os.path.exists(dir):\n",
    "        real_path = os.path.join(dir,'Real')\n",
    "        fake_path = os.path.join(dir,'Fake')\n",
    "        print(f\"Real data count: {len(os.listdir(real_path))}\")\n",
    "        print(f\"Fake data count: {len(os.listdir(fake_path))}\")\n",
    "    else:\n",
    "        print(\"Directory Not Found\")\n",
    "    print()"
   ]
  },
  {
   "cell_type": "code",
   "execution_count": null,
   "id": "3aa91b01-506a-48a6-bfa8-221d20ed601e",
   "metadata": {},
   "outputs": [],
   "source": [
    "check_dist(train_dir)\n",
    "check_dist(validation_dir)\n",
    "check_dist(test_dir)"
   ]
  },
  {
   "cell_type": "code",
   "execution_count": null,
   "id": "ee3452e0-c6cc-49e5-9f41-0dda91869095",
   "metadata": {},
   "outputs": [],
   "source": [
    "def normalize_image(image, labels):\n",
    "  image = tf.cast(image, tf.float32) / 255.0\n",
    "  return image, labels"
   ]
  },
  {
   "cell_type": "code",
   "execution_count": null,
   "id": "f561ac91-4d2f-4a7e-8a9b-4cdec4c3a60b",
   "metadata": {},
   "outputs": [],
   "source": [
    "%%time\n",
    "IMG_SIZE = (256, 256) \n",
    "\n",
    "train_data = tf.keras.preprocessing.image_dataset_from_directory(train_dir,\n",
    "                                                                 label_mode = 'categorical',\n",
    "                                                                 batch_size = 64,\n",
    "                                                                 image_size= IMG_SIZE)\n",
    "\n",
    "validation_data = tf.keras.preprocessing.image_dataset_from_directory(validation_dir,\n",
    "                                                                 label_mode = 'categorical',\n",
    "                                                                 batch_size = 64,\n",
    "                                                                 image_size= IMG_SIZE)\n",
    "\n",
    "test_data = tf.keras.preprocessing.image_dataset_from_directory(test_dir,\n",
    "                                                                 label_mode = 'categorical',\n",
    "                                                                 batch_size = 32,\n",
    "                                                                 image_size= IMG_SIZE,\n",
    "                                                                shuffle = False)"
   ]
  },
  {
   "cell_type": "code",
   "execution_count": null,
   "id": "6c645745-1c5c-4f44-9271-60ec08c9873d",
   "metadata": {},
   "outputs": [],
   "source": [
    "train_data = train_data.map(normalize_image)\n",
    "validation_data = validation_data.map(normalize_image)\n",
    "test_data = test_data.map(normalize_image)"
   ]
  },
  {
   "cell_type": "code",
   "execution_count": null,
   "id": "ebcd3cf8-ace6-4a45-9a9f-9b57ae97da75",
   "metadata": {},
   "outputs": [],
   "source": [
    "model=keras.models.Sequential([\n",
    "    keras.layers.Conv2D(filters=128, kernel_size=(11,11), strides=(4,4), activation='relu', input_shape=(256,256,3)),\n",
    "    keras.layers.BatchNormalization(),\n",
    "    keras.layers.MaxPool2D(pool_size=(2,2)),\n",
    "    keras.layers.Conv2D(filters=256, kernel_size=(5,5), strides=(1,1), activation='relu', padding=\"same\"),\n",
    "    keras.layers.BatchNormalization(),\n",
    "    keras.layers.MaxPool2D(pool_size=(3,3)),\n",
    "    keras.layers.Conv2D(filters=256, kernel_size=(3,3), strides=(1,1), activation='relu', padding=\"same\"),\n",
    "    keras.layers.BatchNormalization(),\n",
    "    keras.layers.Conv2D(filters=256, kernel_size=(1,1), strides=(1,1), activation='relu', padding=\"same\"),\n",
    "    keras.layers.BatchNormalization(),\n",
    "    keras.layers.MaxPool2D(pool_size=(2,2)),\n",
    "    keras.layers.Flatten(),\n",
    "    keras.layers.Dense(128,activation='relu'),\n",
    "    keras.layers.Dropout(0.4),\n",
    "    keras.layers.Dense(2,activation='softmax')  \n",
    "])"
   ]
  },
  {
   "cell_type": "code",
   "execution_count": null,
   "id": "f754cc11-34b4-4b2e-81b3-620428bc2648",
   "metadata": {},
   "outputs": [],
   "source": [
    "model.compile(optimizer = tf.keras.optimizers.Adam(learning_rate=0.0005),\n",
    "                loss = 'BinaryCrossentropy',\n",
    "                metrics=['accuracy'])\n",
    "\n",
    "\n",
    "model_checkpoint = ModelCheckpoint(filepath='/kaggle/working/model_epoch_{epoch:02d}.h5', save_best_only=True)\n",
    "early_stopping = EarlyStopping(monitor='val_loss', patience=5, restore_best_weights=True)"
   ]
  },
  {
   "cell_type": "code",
   "execution_count": null,
   "id": "c0fbac0c-3a84-4f13-83e0-084fed931a97",
   "metadata": {},
   "outputs": [],
   "source": [
    "%%time\n",
    "history = model.fit(train_data,\n",
    "                    epochs = 30,\n",
    "                    validation_data = validation_data,\n",
    "                    validation_steps = int(0.7 * len(validation_data)),\n",
    "                    callbacks=[model_checkpoint, early_stopping]\n",
    "                    )\n"
   ]
  },
  {
   "cell_type": "code",
   "execution_count": null,
   "id": "2f606dc8-4a1d-43d9-a201-8561fa90cf3e",
   "metadata": {},
   "outputs": [],
   "source": [
    "with open('/kaggle/working/history.pkl', 'wb') as file:\n",
    "    pickle.dump(history.history, file)"
   ]
  },
  {
   "cell_type": "code",
   "execution_count": null,
   "id": "87fb2297-bdc8-4a1d-a367-6b27257d2b8d",
   "metadata": {},
   "outputs": [],
   "source": [
    "# Plot training history\n",
    "plt.figure(figsize=(12, 4))\n",
    "\n",
    "# Plot training & validation loss values\n",
    "plt.subplot(1, 2, 1)\n",
    "plt.plot(history.history['loss'], label='Training Loss')\n",
    "plt.plot(history.history['val_loss'], label='Validation Loss')\n",
    "plt.title('Model Loss')\n",
    "plt.xlabel('Epoch')\n",
    "plt.ylabel('Loss')\n",
    "plt.legend()\n",
    "\n",
    "# Plot training & validation accuracy values\n",
    "plt.subplot(1, 2, 2)\n",
    "plt.plot(history.history['accuracy'], label='Training Accuracy')\n",
    "plt.plot(history.history['val_accuracy'], label='Validation Accuracy')\n",
    "plt.title('Model Accuracy')\n",
    "plt.xlabel('Epoch')\n",
    "plt.ylabel('Accuracy')\n",
    "plt.legend()\n",
    "\n",
    "plt.show()"
   ]
  },
  {
   "cell_type": "code",
   "execution_count": null,
   "id": "178c0f67-43a8-495a-9a91-b9f631ee61f9",
   "metadata": {},
   "outputs": [],
   "source": [
    "model.evaluate(test_data)"
   ]
  }
 ],
 "metadata": {
  "kernelspec": {
   "display_name": "Python 3 (ipykernel)",
   "language": "python",
   "name": "python3"
  },
  "language_info": {
   "codemirror_mode": {
    "name": "ipython",
    "version": 3
   },
   "file_extension": ".py",
   "mimetype": "text/x-python",
   "name": "python",
   "nbconvert_exporter": "python",
   "pygments_lexer": "ipython3",
   "version": "3.9.12"
  }
 },
 "nbformat": 4,
 "nbformat_minor": 5
}
